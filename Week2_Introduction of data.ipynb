{
 "cells": [
  {
   "cell_type": "markdown",
   "metadata": {},
   "source": [
    "## 1. Introduction"
   ]
  },
  {
   "cell_type": "markdown",
   "metadata": {},
   "source": [
    "For the final capstone project in the IBM certificate course, we want to analyze the accident “severity” in terms of human fatality, traffic delay, property damage, or any other type of accident bad impact. The data was collected by Seattle SPOT Traffic Management Division and provided by Coursera via a link. This dataset is updated weekly and is from 2004 to present. It contains information such as severity code, address type, location, collision type, weather, road condition, speeding, among others.\n",
    "\n",
    "The target audiences of this study are those people who really care about the traffic records, especially in the transportation department. Also, we want to figure out the reason for collisions and help to reduce accidents in the future."
   ]
  },
  {
   "cell_type": "markdown",
   "metadata": {},
   "source": [
    "## 2. Data"
   ]
  },
  {
   "cell_type": "markdown",
   "metadata": {},
   "source": [
    "There are 194,673 observations and 38 variables in this data set. Since we would like to identify the factors that cause the accident and the level of severity, we will use SEVERITYCODE as our dependent variable Y, and try different combinations of independent variables X to get the result. Since the observations are quite large, we may need to filter out the missing value and delete the unrelated columns first. Then we can select the factor which may have more impact on the accidents, such as address type, weather, road condition, and light condition.\n",
    "\n",
    "The target Data to be predicted under (SEVERITYCODE 1-prop damage 2-injury) label.\n",
    "\n",
    "Other important variables include:<br>\n",
    "• ADDRTYPE: Collision address type: Alley, Block, Intersection <br>\n",
    "• LOCATION: Description of the general location of the collision<br>\n",
    "• PERSONCOUNT: The total number of people involved in the collision helps identify severity involved<br>\n",
    "• PEDCOUNT: The number of pedestrians involved in the collision helps identify severity involved<br>\n",
    "• PEDCYLCOUNT: The number of bicycles involved in the collision helps identify severity involved<br>\n",
    "• VEHCOUNT: The number of vehicles involved in the collision identify severity involved<br>\n",
    "• JUNCTIONTYPE: Category of junction at which collision took place helps identify where most collisions occur<br>\n",
    "• WEATHER: A description of the weather conditions during the time of the collision<br>\n",
    "• ROADCOND: The condition of the road during the collision<br>\n",
    "• LIGHTCOND: The light conditions during the collision<br>\n",
    "• SPEEDING: Whether or not speeding was a factor in the collision (Y/N)<br>\n",
    "• SEGLANEKEY: A key for the lane segment in which the collision occurred<br>\n",
    "• CROSSWALKKEY: A key for the crosswalk at which the collision occurred<br>\n",
    "• HITPARKEDCAR: Whether or not the collision involved hitting a parked car<br>"
   ]
  },
  {
   "cell_type": "markdown",
   "metadata": {},
   "source": [
    "## 3. Methodology"
   ]
  },
  {
   "cell_type": "markdown",
   "metadata": {},
   "source": [
    "We used Jupyter Notebook to do the data analysis. To generate the table and graph for the dataset, we imported Python libraries (Pandas, Numpy, Matplotlib, and Seaborn).\n",
    "First we imported the data through pd.read_csv. We noticed that it had 194,673 rows and 38 columns. Therefore, we narrowed it down to 8 columns (‘Severity’, ‘X’, ‘Y’, ‘Location’, 'Vehcount’, ‘Weather’, ‘Roadcond’, ‘Lighdcond’) and delete the missing values, which made the final dataset with 184,167 observations and 8 variables.\n",
    "\n",
    "Since most of the variable were categorical, it was hard to make the regression model. So, in this study, we focused more on the graphical data and the value count for different categories. There were around 135,000 (2/3) level 1 accidents and 60,000 (1/3) level 2 accidents."
   ]
  }
 ],
 "metadata": {
  "kernelspec": {
   "display_name": "Python 3",
   "language": "python",
   "name": "python3"
  },
  "language_info": {
   "codemirror_mode": {
    "name": "ipython",
    "version": 3
   },
   "file_extension": ".py",
   "mimetype": "text/x-python",
   "name": "python",
   "nbconvert_exporter": "python",
   "pygments_lexer": "ipython3",
   "version": "3.6.11"
  }
 },
 "nbformat": 4,
 "nbformat_minor": 2
}
