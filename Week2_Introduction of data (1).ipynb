{
 "cells": [
  {
   "cell_type": "markdown",
   "metadata": {},
   "source": [
    "## 1. Introduction"
   ]
  },
  {
   "cell_type": "markdown",
   "metadata": {},
   "source": [
    "For the final capstone project in the IBM certificate course, we want to analyze the accident “severity” in terms of human fatality, traffic delay, property damage, or any other type of accident bad impact. The data was collected by Seattle SPOT Traffic Management Division and provided by Coursera via a link. This dataset is updated weekly and is from 2004 to present. It contains information such as severity code, address type, location, collision type, weather, road condition, speeding, among others.\n",
    "\n",
    "The target audiences of this study are those people who really care about the traffic records, especially in the transportation department. Also, we want to figure out the reason for collisions and help to reduce accidents in the future."
   ]
  },
  {
   "cell_type": "markdown",
   "metadata": {},
   "source": [
    "## 2. Data"
   ]
  },
  {
   "cell_type": "markdown",
   "metadata": {},
   "source": [
    "# Data\n",
    "The data that will be used to predict severity level and train the model is the shared data fetched from GISWeb and Seattle government. \n",
    "This data contains the detailed traffic accident record in the time period 2004-present and is renewed weekly.\n",
    "\n",
    "There are a total of 194673 accidents recorded, each record contains 38 different properties. The example of a data:\n",
    "\n",
    "| Index          | Value                                                  |\n",
    "|----------------|--------------------------------------------------------|\n",
    "| SEVERITYCODE   | 2                                                      |\n",
    "| X              | -122.32314840000002                                    |\n",
    "| Y              | 47.70314032                                            |\n",
    "| OBJECTID       | 1                                                      |\n",
    "| INCKEY         | 1307                                                   |\n",
    "| COLDETKEY      | 1307                                                   |\n",
    "| REPORTNO       | 3502005                                                |\n",
    "| STATUS         | Matched                                                |\n",
    "| ADDRTYPE       | Intersection                                           |\n",
    "| INTKEY         | 37475.0                                                |\n",
    "| LOCATION       | 5TH AVE NE AND NE 103RD ST                             |\n",
    "| EXCEPTRSNCODE  |                                                        |\n",
    "| EXCEPTRSNDESC  | nan                                                    |\n",
    "| SEVERITYCODE.1 | 2                                                      |\n",
    "| SEVERITYDESC   | Injury Collision                                       |\n",
    "| COLLISIONTYPE  | Angles                                                 |\n",
    "| PERSONCOUNT    | 2                                                      |\n",
    "| PEDCOUNT       | 0                                                      |\n",
    "| PEDCYLCOUNT    | 0                                                      |\n",
    "| VEHCOUNT       | 2                                                      |\n",
    "| INCDATE        | 2013/03/27 00:00:00+00                                 |\n",
    "| INCDTTM        | 3/27/2013 2:54:00 PM                                   |\n",
    "| JUNCTIONTYPE   | At Intersection (intersection related)                 |\n",
    "| SDOT_COLCODE   | 11                                                     |\n",
    "| SDOT_COLDESC   | MOTOR VEHICLE STRUCK MOTOR VEHICLE, FRONT END AT ANGLE |\n",
    "| INATTENTIONIND | nan                                                    |\n",
    "| UNDERINFL      | N                                                      |\n",
    "| WEATHER        | Overcast                                               |\n",
    "| ROADCOND       | Wet                                                    |\n",
    "| LIGHTCOND      | Daylight                                               |\n",
    "| PEDROWNOTGRNT  | nan                                                    |\n",
    "| SDOTCOLNUM     | nan                                                    |\n",
    "| SPEEDING       | nan                                                    |\n",
    "| ST_COLCODE     | 10                                                     |\n",
    "| ST_COLDESC     | Entering at angle                                      |\n",
    "| SEGLANEKEY     | 0                                                      |\n",
    "| CROSSWALKKEY   | 0                                                      |\n",
    "| HITPARKEDCAR   | N                                                      |\n",
    "\n",
    "The usage of different parameters are as follows:\n",
    "(Full description is in [Metadata.pdf](https://github.com/Mick235711/Coursera_Capstone/blob/main/Metadata.pdf)).\n",
    "- `SEVERITYCODE` (1 or 2), `PERSONCOUNT` (0-81), `PEDCOUNT` (0-6), `PEDCYLCOUNT` (0-2), `VEHCOUNT` (0-12), `ST_COLCODE` (0-84): \n",
    "  These parameters describe the severity of the accident. We can uniformalize the severity of an accident by combining all these parameters. \n",
    "  The example data have a severity code of 2, person and vehicle count as 2, pedestrian and pedcylcist count of 0. The state collision code is 10.\n",
    "  From these data, we can determine that the final severity value as 6 (sum of all the counts).\n",
    "- `COLLISIONTYPE` (10 different types): Can be changed to values of 0-9 for effective predicting. The example have a collision type of `Angles` (1).\n",
    "- `INCDATE` & `INCDTTM` (date & time): although not used for prediction, can be used to plot the frequency of accidents in each year. The example happened in March 27th, 2013.\n",
    "- `JUNCTIONTYPE` (6 different types): Changed to 0-5. The 9 `Unknown`s can be seen as majority `Mid-Block (not related to intersection)`.\n",
    "  The example have a junction type of `At Intersection (intersection related)` (1).\n",
    "- `INATTENTIONIND` (Y/N): Change to 0-1. The NaN values represents No, so need processing. Example have an id of No (0).\n",
    "- `UNDERINFL` (Y/N): Change to 0-1. Example have an value of No (0).\n",
    "- `WEATHER` (11 different types): Can be combined into \n",
    "  `Clear` (`Clear`, `Partly Cloudy`, `Overcast`), \n",
    "  `Waterdrop` (`Raining`, `Snowing`, `Sleet/Hail/Freezing Rain`), \n",
    "  `Severe Condition` (`Blowing Sand/Dirt`, `Severe Crosswind`, `Fog/Smog/Smoke`),\n",
    "  `Other` (`Other`, `Unknown`) and then change to 0-3. Example have weather of `Overcast` (0).\n",
    "- `ROADCOND` (9 different types): Can be combined into \n",
    "  `Good` (`Dry`), \n",
    "  `Sweeping` (`Wet`, `Sand/Mud/Dirt`, `Oil`), \n",
    "  `Bad` (`Ice`, `Standing Water`, `Snow/Slush`), \n",
    "  `Other` (`Other`, `Unknown`) and then change to 0-3. Example have road condition of `Wet` (`Sweeping`, 1).\n",
    "- `LIGHTCOND` (9 different types): Can assume the unknown in `Dark` to be street light on, as that is the majority. Then can be combined into \n",
    "  `Light` (`Daylight`), \n",
    "  `Partial Light` (`Dawn`, `Dusk`, `Dark - Street Lights On`, `Dark - Unknown Lighting`),\n",
    "  `Dark` (`Dark - No Street Lights`, `Dark - Street Lights Off`),\n",
    "  `Other` (`Other`, `Unknown`) and then change to 0-3. Example have light condition of `Daylight` (`Light`, 0).\n",
    "- `PEDROWNOTGRNT` (Y/N): NaN = No, then change to 0-1. Example have value of No (0).\n",
    "- `SPEEDING` (Y/N): NaN = No, then change to 0-1. Example have value of No (0).\n",
    "- `HITPARKEDCAR` (Y/N): Change to 0-1. Example have value of No (0).\n",
    "\n",
    "Together, we have 10 independent inputs and 1 target parameter (severity). The value of example data is as below:\n",
    "\n",
    "|   SEVERITY |   COLLISIONTYPE |   JUNCTIONTYPE |   INATTENTIONIND |   UNDERINFL |   WEATHER |   ROADCOND |   LIGHTCOND |   PEDROWNOTGRANT |   SPEEDING |   HITPARKEDCAR |\n",
    "|------------|-----------------|----------------|------------------|-------------|-----------|------------|-------------|------------------|------------|----------------|\n",
    "|          6 |               1 |              1 |                0 |           0 |         0 |          1 |           0 |                0 |          0 |              0 |\n",
    "\n",
    "We can then use machine learning models to perform the prediction.\n",
    "\n"
   ]
  },
  {
   "cell_type": "markdown",
   "metadata": {},
   "source": [
    "## 3. Methodology"
   ]
  },
  {
   "cell_type": "markdown",
   "metadata": {},
   "source": [
    "We used Jupyter Notebook to do the data analysis. To generate the table and graph for the dataset, we imported Python libraries (Pandas, Numpy, Matplotlib, and Seaborn).\n",
    "First we imported the data through pd.read_csv. We noticed that it had 194,673 rows and 38 columns. Therefore, we narrowed it down to 8 columns (‘Severity’, ‘X’, ‘Y’, ‘Location’, 'Vehcount’, ‘Weather’, ‘Roadcond’, ‘Lighdcond’) and delete the missing values, which made the final dataset with 184,167 observations and 8 variables.\n",
    "\n",
    "Since most of the variable were categorical, it was hard to make the regression model. So, in this study, we focused more on the graphical data and the value count for different categories. There were around 135,000 (2/3) level 1 accidents and 60,000 (1/3) level 2 accidents."
   ]
  }
 ],
 "metadata": {
  "kernelspec": {
   "display_name": "Python 3",
   "language": "python",
   "name": "python3"
  },
  "language_info": {
   "codemirror_mode": {
    "name": "ipython",
    "version": 3
   },
   "file_extension": ".py",
   "mimetype": "text/x-python",
   "name": "python",
   "nbconvert_exporter": "python",
   "pygments_lexer": "ipython3",
   "version": "3.6.11"
  }
 },
 "nbformat": 4,
 "nbformat_minor": 2
}
